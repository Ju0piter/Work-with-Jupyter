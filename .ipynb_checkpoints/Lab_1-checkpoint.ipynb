{
 "cells": [
  {
   "cell_type": "markdown",
   "id": "given-melissa",
   "metadata": {},
   "source": [
    "# Лабораторная работа 1\n",
    "## Выполнил студент группы БСТ1903 Бритвин Дмитрий Вадимович\n",
    "### Задание №1\n",
    "#### описание условия задания"
   ]
  },
  {
   "cell_type": "code",
   "execution_count": 1,
   "id": "demographic-convertible",
   "metadata": {
    "scrolled": true
   },
   "outputs": [
    {
     "name": "stdout",
     "output_type": "stream",
     "text": [
      "Hello, World\n"
     ]
    }
   ],
   "source": [
    "print (\"Hello, World\")"
   ]
  },
  {
   "cell_type": "markdown",
   "id": "increased-owner",
   "metadata": {},
   "source": [
    "### Задание №2"
   ]
  },
  {
   "cell_type": "code",
   "execution_count": 2,
   "id": "collect-clearing",
   "metadata": {},
   "outputs": [],
   "source": [
    "import numpy\n",
    "import time\n",
    "def matrixgenerate():\n",
    "    m = int(input())\n",
    "    n = int(input())\n",
    "    min_limit = -250\n",
    "    max_limit = 1000+3\n",
    "    matrixx = numpy.random.random_integers(min_limit,max_limit, size=(m,n))\n",
    "    print(*matrixx)\n",
    "    return matrixx"
   ]
  },
  {
   "cell_type": "code",
   "execution_count": 30,
   "id": "assured-terror",
   "metadata": {},
   "outputs": [],
   "source": [
    "def per(matrixx):\n",
    "    n=len(matrixx)\n",
    "    m=len(matrixx[0])\n",
    "    matrline=[0]*(n*m)\n",
    "    x=int(0)\n",
    "    for i in range(0, n):\n",
    "        for j in range(0, m):\n",
    "            matrline[x]=matrixx[i][j]\n",
    "            x=x+1\n",
    "    return matrline\n",
    "\n",
    "def vivod(matrixx, matrline):\n",
    "    n=len(matrixx)\n",
    "    m=len(matrixx[0])\n",
    "    x=int(0)\n",
    "    matrix=[[0] * m for i in range(n)]\n",
    "    for i in range(0, n):\n",
    "        for j in range(0, m):\n",
    "            matrix[i][j]=matrline[x]\n",
    "            x=x+1\n",
    "    return matrix \n"
   ]
  },
  {
   "cell_type": "code",
   "execution_count": 31,
   "id": "earlier-brave",
   "metadata": {},
   "outputs": [],
   "source": [
    "#Cортировка выбором"
   ]
  },
  {
   "cell_type": "code",
   "execution_count": 32,
   "id": "hundred-gibson",
   "metadata": {},
   "outputs": [],
   "source": [
    "def sortviborom(matrixx):\n",
    "    matrline=per(matrixx)\n",
    "    for i in range(0, len(matrline)):\n",
    "        minn = i\n",
    "        for j in range(i, len(matrline)):\n",
    "            if matrline[minn]>matrline[j]:\n",
    "                minn = j\n",
    "        matrline[i],matrline[minn]=matrline[minn],matrline[i]\n",
    "    return vivod(matrixx, matrline)"
   ]
  },
  {
   "cell_type": "code",
   "execution_count": 33,
   "id": "motivated-hollywood",
   "metadata": {},
   "outputs": [],
   "source": [
    "#Конец сортировки выбором"
   ]
  },
  {
   "cell_type": "code",
   "execution_count": 34,
   "id": "detected-network",
   "metadata": {},
   "outputs": [],
   "source": [
    "#Сортировка вставками"
   ]
  },
  {
   "cell_type": "code",
   "execution_count": 35,
   "id": "chief-inspector",
   "metadata": {},
   "outputs": [],
   "source": [
    "def sortvstavkami(matrixx):\n",
    "    matrline=per(matrixx)\n",
    "    for i in range(1, len(matrline)):\n",
    "        j=i-1\n",
    "        while (j>=0) and (matrline[j]>matrline[j+1]):\n",
    "            matrline[j], matrline[j+1]=matrline[j+1], matrline[j]\n",
    "            j=j-1\n",
    "    return vivod(matrixx, matrline)     "
   ]
  },
  {
   "cell_type": "code",
   "execution_count": 36,
   "id": "regulation-ecuador",
   "metadata": {},
   "outputs": [],
   "source": [
    "#Конец сортировки вставками"
   ]
  },
  {
   "cell_type": "code",
   "execution_count": 37,
   "id": "naked-feature",
   "metadata": {},
   "outputs": [],
   "source": [
    "# Сортировка Обменом"
   ]
  },
  {
   "cell_type": "code",
   "execution_count": 38,
   "id": "empirical-conviction",
   "metadata": {},
   "outputs": [],
   "source": [
    "def sortobmen(matrixx):\n",
    "    matrline=per(matrixx)\n",
    "    l=len(matrline)\n",
    "    while l>1:\n",
    "        for i in range(l-1):\n",
    "            if matrline[i]>matrline[i+1]:\n",
    "                 matrline[i], matrline[i+1]=matrline[i+1], matrline[i]\n",
    "        l=l-1\n",
    "\n",
    "    return vivod(matrixx, matrline)"
   ]
  },
  {
   "cell_type": "code",
   "execution_count": 39,
   "id": "filled-perfume",
   "metadata": {},
   "outputs": [],
   "source": [
    "# Конец сортировки обменом"
   ]
  },
  {
   "cell_type": "code",
   "execution_count": 40,
   "id": "muslim-procedure",
   "metadata": {},
   "outputs": [],
   "source": [
    "#Сортировка Шелла"
   ]
  },
  {
   "cell_type": "code",
   "execution_count": 41,
   "id": "conceptual-assault",
   "metadata": {},
   "outputs": [],
   "source": [
    "def shellsort(matrixx):\n",
    "    matrline=per(matrixx)\n",
    "    length=len(matrline)\n",
    "    l=length\n",
    "    while l>0:\n",
    "        for i in range(length-l):\n",
    "            j=i\n",
    "            while j>=0 and matrline[j+l]<matrline[j]:\n",
    "                matrline[j], matrline[j+l]=matrline[j+l], matrline[j]\n",
    "                j=j-l\n",
    "        l=int(l/2)\n",
    "    return vivod(matrixx, matrline)"
   ]
  },
  {
   "cell_type": "code",
   "execution_count": 42,
   "id": "buried-amazon",
   "metadata": {},
   "outputs": [],
   "source": [
    "#Конец сортировки Шелла"
   ]
  },
  {
   "cell_type": "code",
   "execution_count": 43,
   "id": "owned-prevention",
   "metadata": {},
   "outputs": [],
   "source": [
    "#Турнирная сортировка"
   ]
  },
  {
   "cell_type": "code",
   "execution_count": 44,
   "id": "annual-stewart",
   "metadata": {},
   "outputs": [],
   "source": [
    "def tyrsort(matrixx):\n",
    "    matrline=per(matrixx)\n",
    "    def _tyrsort(matrline):\n",
    "        tree = [None] * 2 * (len(matrline) + len(matrline) % 2)\n",
    "        index = len(tree) - len(matrline) - len(matrline) % 2\n",
    "        for i, v in enumerate(matrline):\n",
    "            tree[index + i] = (i, v)\n",
    "        for j in range(len(matrline)):\n",
    "            n = len(matrline)\n",
    "            index = len(tree) - len(matrline) - len(matrline) % 2\n",
    "            while index > -1:\n",
    "                n = (n + 1) // 2\n",
    "                for i in range(n):\n",
    "                    i = max(index + i * 2, 1)\n",
    "                    if tree[i] != None and tree[i + 1] != None:\n",
    "                        if tree[i][1] < tree[i + 1][1]:\n",
    "                            tree[i // 2] = tree[i]\n",
    "                        else:\n",
    "                            tree[i // 2] = tree[i + 1]\n",
    "                    else:\n",
    "                        tree[i // 2] = tree[i] if tree[i] != None else tree[i + 1]\n",
    "                index -= n\n",
    "\n",
    "            index, x = tree[0]\n",
    "            matrline[j] = x\n",
    "            tree[len(tree) - len(matrline) - len(matrline) % 2 + index] = None\n",
    "    _tyrsort(matrline)\n",
    "    return vivod(matrixx, matrline) "
   ]
  },
  {
   "cell_type": "code",
   "execution_count": 45,
   "id": "dimensional-tower",
   "metadata": {},
   "outputs": [],
   "source": [
    "#Конец турнирной сортировки"
   ]
  },
  {
   "cell_type": "code",
   "execution_count": 46,
   "id": "trained-building",
   "metadata": {},
   "outputs": [],
   "source": [
    "#Быстрая сортировка"
   ]
  },
  {
   "cell_type": "code",
   "execution_count": 47,
   "id": "protected-design",
   "metadata": {},
   "outputs": [],
   "source": [
    "def qs(matrixx):\n",
    "    matrline=per(matrixx)\n",
    "    def quicksort(matrline, first, last):\n",
    "        i=first\n",
    "        j=last\n",
    "        x=matrline[int((first+last)/2)]\n",
    "        while i<=j:\n",
    "            while matrline[i]<x:\n",
    "                i+=1\n",
    "            while matrline[j]>x:\n",
    "                j-=1\n",
    "            if i<=j:\n",
    "                if matrline[i]>matrline[j]:\n",
    "                    matrline[i], matrline[j]=matrline[j], matrline[i]\n",
    "                i+=1\n",
    "                j-=1\n",
    "        if i<last:\n",
    "            quicksort(matrline, i, last)\n",
    "        if first<j:\n",
    "            quicksort(matrline, first, j)\n",
    "    quicksort(matrline, 0, len(matrline)-1)\n",
    "    return vivod(matrixx, matrline)"
   ]
  },
  {
   "cell_type": "code",
   "execution_count": 48,
   "id": "visible-athens",
   "metadata": {},
   "outputs": [],
   "source": [
    "#Конец быстрой сортировки"
   ]
  },
  {
   "cell_type": "code",
   "execution_count": 49,
   "id": "given-groove",
   "metadata": {},
   "outputs": [],
   "source": [
    "#Пирамидальная сортировка"
   ]
  },
  {
   "cell_type": "code",
   "execution_count": 50,
   "id": "surprising-letters",
   "metadata": {},
   "outputs": [],
   "source": [
    "def heapSort(matrixx):\n",
    "    matrline=per(matrixx)\n",
    "    def downHeap(matrline, k, n):\n",
    "        el = matrline[k]\n",
    "        while 2*k+1 < n:\n",
    "            child = 2*k+1\n",
    "            if child+1 < n and matrline[child] < matrline[child+1]:\n",
    "                child += 1\n",
    "            if el >= matrline[child]:\n",
    "                break\n",
    "            matrline[k] = matrline[child]\n",
    "            k = child\n",
    "        matrline[k] = el\n",
    "  \n",
    "    size = len(matrline)\n",
    "    for i in range(size//2-1,-1,-1):\n",
    "        downHeap(matrline, i, size)\n",
    "    for i in range(size-1,0,-1):\n",
    "        temp = matrline[i]\n",
    "        matrline[i] = matrline[0]\n",
    "        matrline[0] = temp\n",
    "        downHeap(matrline, 0, i)\n",
    "    return vivod(matrixx, matrline)"
   ]
  },
  {
   "cell_type": "code",
   "execution_count": 51,
   "id": "married-dryer",
   "metadata": {},
   "outputs": [],
   "source": [
    "#Конец пирамидальной сортировки"
   ]
  },
  {
   "cell_type": "code",
   "execution_count": 52,
   "id": "instrumental-culture",
   "metadata": {},
   "outputs": [
    {
     "name": "stdout",
     "output_type": "stream",
     "text": [
      "10\n",
      "1\n",
      "[-217] [775] [-82] [590] [295] [325] [-104] [686] [254] [92]\n",
      "\n",
      "Время работы стандартной сортировки 0.00011500000005071342 \n",
      "Результат сортировки\n",
      " [-217] [-104] [-82] [92] [254] [295] [325] [590] [686] [775]\n",
      "\n",
      "Время работы сортировки выбором 5.3999999977349944e-05 \n",
      "Результат сортировки\n",
      " [-217] [-104] [-82] [92] [254] [295] [325] [590] [686] [775]\n",
      "\n",
      "Время работы сортировки вставкой 5.0600000008671486e-05 \n",
      "Результат сортировки\n",
      " [-217] [-104] [-82] [92] [254] [295] [325] [590] [686] [775]\n",
      "\n",
      "Время работы сортировки обменом 5.160000000614673e-05 \n",
      "Результат сортировки\n",
      " [-217] [-104] [-82] [92] [254] [295] [325] [590] [686] [775]\n",
      "\n",
      "Время работы сортировки Шелла 5.050000004303001e-05 \n",
      "Результат сортировки\n",
      " [-217] [-104] [-82] [92] [254] [295] [325] [590] [686] [775]\n",
      "\n",
      "Время работы турнирной сортировки 0.00010270000007039926 \n",
      "Результат сортировки\n",
      " [-217] [-104] [-82] [92] [254] [295] [325] [590] [686] [775]\n",
      "\n",
      "Время работы быстрой сортировки 5.2800000048591755e-05 \n",
      "Результат сортировки\n",
      " [-217] [-104] [-82] [92] [254] [295] [325] [590] [686] [775]\n",
      "\n",
      "Время работы пирамидальной сортировки 5.9299999975337414e-05 \n",
      "Результат сортировки\n",
      " [-217] [-104] [-82] [92] [254] [295] [325] [590] [686] [775]\n"
     ]
    },
    {
     "name": "stderr",
     "output_type": "stream",
     "text": [
      "<ipython-input-29-43438c3c7e0c>:8: DeprecationWarning: This function is deprecated. Please call randint(-250, 1003 + 1) instead\n",
      "  matrixx = numpy.random.random_integers(min_limit,max_limit, size=(m,n))\n"
     ]
    }
   ],
   "source": [
    "matrixx=matrixgenerate()\n",
    "\n",
    "#Стандартная сортировка\n",
    "timerStart = time.perf_counter()\n",
    "matrline=per(matrixx)\n",
    "sorted(matrline)\n",
    "matrixstandart=vivod(matrixx, matrline)\n",
    "timerEnd = time.perf_counter()\n",
    "timer1 = timerEnd - timerStart\n",
    "#\n",
    "\n",
    "#Сортировка выбором\n",
    "timerStart = time.perf_counter()\n",
    "matrix=sortviborom(matrixx)\n",
    "timerEnd = time.perf_counter()\n",
    "timer2 = timerEnd - timerStart\n",
    "#\n",
    "\n",
    "#Сортировка вставками\n",
    "timerStart = time.perf_counter()\n",
    "matrix1=sortvstavkami(matrixx)\n",
    "timerEnd = time.perf_counter()\n",
    "timer3 = timerEnd - timerStart\n",
    "#\n",
    "\n",
    "#Сортировка обменом\n",
    "timerStart = time.perf_counter()\n",
    "matrix2=sortobmen(matrixx)\n",
    "timerEnd = time.perf_counter()\n",
    "timer4 = timerEnd - timerStart\n",
    "#\n",
    "\n",
    "#Сортировка Шелла\n",
    "timerStart = time.perf_counter()\n",
    "matrix3=shellsort(matrixx)\n",
    "timerEnd = time.perf_counter()\n",
    "timer5 = timerEnd - timerStart\n",
    "#\n",
    "\n",
    "#Турнирная сортировка\n",
    "timerStart = time.perf_counter()\n",
    "matrix4=tyrsort(matrixx)\n",
    "timerEnd = time.perf_counter()\n",
    "timer6 = timerEnd - timerStart\n",
    "#\n",
    "\n",
    "#Быстрая сортировка\n",
    "timerStart = time.perf_counter()\n",
    "matrix5=qs(matrixx)\n",
    "timerEnd = time.perf_counter()\n",
    "timer7 = timerEnd - timerStart\n",
    "#\n",
    "\n",
    "#Пирамидальная сортировка\n",
    "timerStart = time.perf_counter()\n",
    "matrix6=heapSort(matrixx)\n",
    "timerEnd = time.perf_counter()\n",
    "timer8 = timerEnd - timerStart\n",
    "#\n",
    "print(\"\\nВремя работы стандартной сортировки\", timer1,\"\\nРезультат сортировки\\n\", *matrix)\n",
    "print(\"\\nВремя работы сортировки выбором\", timer2,\"\\nРезультат сортировки\\n\", *matrix)\n",
    "print(\"\\nВремя работы сортировки вставкой\", timer3,\"\\nРезультат сортировки\\n\", *matrix1)\n",
    "print(\"\\nВремя работы сортировки обменом\", timer4,\"\\nРезультат сортировки\\n\", *matrix2)\n",
    "print(\"\\nВремя работы сортировки Шелла\", timer5,\"\\nРезультат сортировки\\n\", *matrix3)\n",
    "print(\"\\nВремя работы турнирной сортировки\", timer6,\"\\nРезультат сортировки\\n\", *matrix4)\n",
    "print(\"\\nВремя работы быстрой сортировки\", timer7,\"\\nРезультат сортировки\\n\", *matrix5)\n",
    "print(\"\\nВремя работы пирамидальной сортировки\", timer8,\"\\nРезультат сортировки\\n\", *matrix6)"
   ]
  },
  {
   "cell_type": "markdown",
   "id": "reflected-cincinnati",
   "metadata": {},
   "source": [
    "## Вывод"
   ]
  },
  {
   "cell_type": "markdown",
   "id": "continental-transformation",
   "metadata": {},
   "source": [
    "#### В результате проделанной лабораторной работы мы реализовали генерацию случайной матрицы и изучили методы сортировок матрицы."
   ]
  },
  {
   "cell_type": "code",
   "execution_count": null,
   "id": "threaded-indiana",
   "metadata": {},
   "outputs": [],
   "source": []
  },
  {
   "cell_type": "code",
   "execution_count": null,
   "id": "alternate-people",
   "metadata": {},
   "outputs": [],
   "source": []
  },
  {
   "cell_type": "code",
   "execution_count": null,
   "id": "personal-retail",
   "metadata": {},
   "outputs": [],
   "source": []
  }
 ],
 "metadata": {
  "kernelspec": {
   "display_name": "Python 3",
   "language": "python",
   "name": "python3"
  },
  "language_info": {
   "codemirror_mode": {
    "name": "ipython",
    "version": 3
   },
   "file_extension": ".py",
   "mimetype": "text/x-python",
   "name": "python",
   "nbconvert_exporter": "python",
   "pygments_lexer": "ipython3",
   "version": "3.9.1"
  }
 },
 "nbformat": 4,
 "nbformat_minor": 5
}
